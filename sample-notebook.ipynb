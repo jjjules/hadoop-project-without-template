{
 "cells": [
  {
   "cell_type": "code",
   "execution_count": 1,
   "metadata": {},
   "outputs": [
    {
     "name": "stdout",
     "output_type": "stream",
     "text": [
      "Operating as: jules_gottraux\n",
      "Hive server at: hadoop-2.datascience.ch\n"
     ]
    }
   ],
   "source": [
    "import os\n",
    "import re\n",
    "import pandas as pd\n",
    "\n",
    "username = os.environ['JUPYTERHUB_USER']\n",
    "username = re.sub(r'\\.|-', '_', username) # Unsafe characters\n",
    "hiveaddr = os.environ['HIVE_SERVER_2']\n",
    "\n",
    "print(\"Operating as: {0}\".format(username))\n",
    "print(\"Hive server at:\", hiveaddr)"
   ]
  },
  {
   "cell_type": "markdown",
   "metadata": {},
   "source": [
    "----\n",
    "We can access HDFS progmmatically using the `hdfs3` python APIs. For Hive, we use `pyhive`."
   ]
  },
  {
   "cell_type": "code",
   "execution_count": 2,
   "metadata": {},
   "outputs": [
    {
     "name": "stdout",
     "output_type": "stream",
     "text": [
      "Users present on the Hadoop File System: ambari-qa, hbase, hive, spark\n",
      "\n",
      "Creating table 'example'\n",
      "Hive tables present on current database:\n"
     ]
    },
    {
     "data": {
      "text/html": [
       "<div>\n",
       "<style scoped>\n",
       "    .dataframe tbody tr th:only-of-type {\n",
       "        vertical-align: middle;\n",
       "    }\n",
       "\n",
       "    .dataframe tbody tr th {\n",
       "        vertical-align: top;\n",
       "    }\n",
       "\n",
       "    .dataframe thead th {\n",
       "        text-align: right;\n",
       "    }\n",
       "</style>\n",
       "<table border=\"1\" class=\"dataframe\">\n",
       "  <thead>\n",
       "    <tr style=\"text-align: right;\">\n",
       "      <th></th>\n",
       "      <th>tab_name</th>\n",
       "    </tr>\n",
       "  </thead>\n",
       "  <tbody>\n",
       "    <tr>\n",
       "      <th>0</th>\n",
       "      <td>example</td>\n",
       "    </tr>\n",
       "  </tbody>\n",
       "</table>\n",
       "</div>"
      ],
      "text/plain": [
       "  tab_name\n",
       "0  example"
      ]
     },
     "execution_count": 2,
     "metadata": {},
     "output_type": "execute_result"
    }
   ],
   "source": [
    "import pandas as pd\n",
    "from hdfs3 import HDFileSystem\n",
    "from pyhive import hive\n",
    "\n",
    "hdfs_host, hdfs_port = re.sub('hdfs://', '', os.environ['HADOOP_DEFAULT_FS']).split(':')\n",
    "hdfs = HDFileSystem(host=hdfs_host, port=int(hdfs_port), user=username, effective_user=username)\n",
    "hdfs_ls = hdfs.ls(\"/user/\")\n",
    "hdfs_ls = [re.sub('/user/', '', s) for s in hdfs_ls]\n",
    "print('Users present on the Hadoop File System:', ', '.join(hdfs_ls))\n",
    "print()\n",
    "\n",
    "conn = hive.connect(host=hiveaddr, port=10000, username=username)\n",
    "cursor = conn.cursor()\n",
    "print('Creating table \\'example\\'')\n",
    "cursor.execute('create database if not exists {0}'.format(username))\n",
    "cursor.execute('use {0}'.format(username))\n",
    "cursor.execute('drop table if exists {0}.example'.format(username))\n",
    "query = \"\"\"\n",
    "    create external table {0}.example(\n",
    "    first_name string,\n",
    "    last_name string\n",
    "    )\n",
    "    stored as textfile\n",
    "    location '/warehouse/tablespace/external/hive'\n",
    "\"\"\".format(username)\n",
    "cursor.execute(query)\n",
    "print('Hive tables present on current database:')\n",
    "pd.read_sql(\"show tables\", conn)"
   ]
  },
  {
   "cell_type": "markdown",
   "metadata": {},
   "source": [
    "#### Resources:\n",
    "* Hive tutorial: [https://cwiki.apache.org/confluence/display/Hive/Tutorial](https://cwiki.apache.org/confluence/display/Hive/Tutorial)\n",
    "* hdfs3 documentation: [https://hdfs3.readthedocs.io/en/latest/api.html#hdfs3.core.HDFileSystem](https://hdfs3.readthedocs.io/en/latest/api.html#hdfs3.core.HDFileSystem)\n",
    "* PyHive: [https://github.com/dropbox/PyHive](https://github.com/dropbox/PyHive)"
   ]
  }
 ],
 "metadata": {
  "kernelspec": {
   "display_name": "Python 3",
   "language": "python",
   "name": "python3"
  },
  "language_info": {
   "codemirror_mode": {
    "name": "ipython",
    "version": 3
   },
   "file_extension": ".py",
   "mimetype": "text/x-python",
   "name": "python",
   "nbconvert_exporter": "python",
   "pygments_lexer": "ipython3",
   "version": "3.7.6"
  }
 },
 "nbformat": 4,
 "nbformat_minor": 4
}
